{
 "cells": [
  {
   "cell_type": "code",
   "execution_count": null,
   "metadata": {},
   "outputs": [],
   "source": [
    "import os"
   ]
  },
  {
   "cell_type": "code",
   "execution_count": null,
   "metadata": {},
   "outputs": [],
   "source": [
    "fname = os.path.join('data', '16428')\n",
    "page_size = 8192"
   ]
  },
  {
   "cell_type": "code",
   "execution_count": null,
   "metadata": {},
   "outputs": [],
   "source": [
    "with open(fname, 'rb') as f:\n",
    "    data = f.read()"
   ]
  },
  {
   "cell_type": "code",
   "execution_count": null,
   "metadata": {},
   "outputs": [],
   "source": [
    "def get_page(k):\n",
    "    return data[k*page_size: (k+1)*page_size]\n",
    "\n",
    "def b2n(b):\n",
    "    \"\"\" bytes => integer (little-endian) \"\"\"\n",
    "    res = 0\n",
    "    for bb in b[::-1]:\n",
    "        res = res*256 + int(bb)\n",
    "    return res\n",
    "\n",
    "def b2s(b, n=32):\n",
    "    \"\"\" bytes => string \"\"\"\n",
    "    s = []\n",
    "    for i in range(0, len(b), n):\n",
    "        bb = b[i:i+n]\n",
    "        s.append(' '.join(f'{x:02x}' for x in bb))\n",
    "    return '\\n'.join(s)\n",
    "\n",
    "def print_page(k):\n",
    "    \"\"\" print page info \"\"\"\n",
    "    p = get_page(k)\n",
    "    header = p[:24]\n",
    "    pd_lower   = b2n(p[12:14])\n",
    "    pd_upper   = b2n(p[14:16])\n",
    "    pd_special = b2n(p[16:18])\n",
    "    n_items = (pd_lower - 24) // 4\n",
    "    item_size = (pd_special - pd_upper) / n_items\n",
    "\n",
    "    print(f'page #{k}:')\n",
    "    print(f'header: {b2s(header)}')\n",
    "    print(f'pd_lower = {pd_lower}, pd_upper = {pd_upper}, pd_special = {pd_special}')\n",
    "    print(f'{n_items} items, avg item size = {item_size:.2f} bytes')\n",
    "    print()"
   ]
  },
  {
   "cell_type": "code",
   "execution_count": null,
   "metadata": {},
   "outputs": [],
   "source": [
    "print_page(123)\n",
    "print_page(234)\n",
    "print_page(345)"
   ]
  },
  {
   "cell_type": "code",
   "execution_count": null,
   "metadata": {},
   "outputs": [],
   "source": []
  }
 ],
 "metadata": {
  "kernelspec": {
   "display_name": "Python 3",
   "language": "python",
   "name": "python3"
  },
  "language_info": {
   "codemirror_mode": {
    "name": "ipython",
    "version": 3
   },
   "file_extension": ".py",
   "mimetype": "text/x-python",
   "name": "python",
   "nbconvert_exporter": "python",
   "pygments_lexer": "ipython3",
   "version": "3.8.5"
  }
 },
 "nbformat": 4,
 "nbformat_minor": 4
}
